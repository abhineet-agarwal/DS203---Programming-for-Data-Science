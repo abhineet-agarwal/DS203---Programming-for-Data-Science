{
 "cells": [
  {
   "cell_type": "markdown",
   "metadata": {},
   "source": [
    "### Using OLS function from the statsmodels package to create MLR models\n",
    "The Python package *statsmodels* has a function OLS (Ordinary Least Squares) that can be used for creating MLR models. This function conveniently creates and displays all the regression metrics that we have been using so far. \n",
    "\n",
    "This unit illustrates the steps involved in using OLS. This unit also uses a few very convenient *pandas* functions ... \n",
    "\n",
    "We have more about *pandas* and *statsmodels* coming up in later units.\n"
   ]
  },
  {
   "cell_type": "code",
   "execution_count": null,
   "metadata": {},
   "outputs": [],
   "source": [
    "import numpy as np\n",
    "import pandas as pd\n",
    "import matplotlib.pyplot as plt"
   ]
  },
  {
   "cell_type": "code",
   "execution_count": null,
   "metadata": {},
   "outputs": [],
   "source": [
    "# Read the data file and display the first 5 rows\n",
    "\n",
    "df = pd.read_csv('non-linear-data-set-for-regression.csv')\n",
    "df.head()"
   ]
  },
  {
   "cell_type": "code",
   "execution_count": null,
   "metadata": {},
   "outputs": [],
   "source": [
    "# As explained in \"DS203-2023-08-18-MLR-of-Non-Linear-Y.pdf\", in this data set y is a non-linear function of x\n",
    "# We will therefore add a few polynomial features to allow flexibility in the model\n",
    "# Create three features x2, x3, x4 from x1 as explained in the above PDF\n",
    "\n",
    "df['x2'] = df['x1']**2\n",
    "df['x3'] = df['x1']**3\n",
    "df['x4'] = df['x1']**4"
   ]
  },
  {
   "cell_type": "code",
   "execution_count": null,
   "metadata": {},
   "outputs": [],
   "source": [
    "# Import the statsmodels package and create the matrix / vector of imput and output data\n",
    "import statsmodels.api as sm\n",
    "\n",
    "X = df[['x1', 'x2', 'x3', 'x4']]\n",
    "print(X.head())\n",
    "\n",
    "# Add a constant (ie. column of ones) to the matrix, as required by the matrix representation of the system of equations for MLR\n",
    "# See DS203-2023-08-18-MLR-Gradient-Descent-Derivation.pdf for details ...\n",
    "\n",
    "X = sm.add_constant(X)\n",
    "print(X.head())\n",
    "\n",
    "y = df['y']"
   ]
  },
  {
   "cell_type": "code",
   "execution_count": null,
   "metadata": {},
   "outputs": [],
   "source": [
    "# Pass the X and y data to the OLS function to fit the model and print the model summary\n",
    "# Note the details of the model, and compare it with that presented in DS203-2023-08-18-MLR-of-Non-Linear-Y.pdf\n",
    "\n",
    "mlr_model = sm.OLS(y, X).fit()\n",
    "print(mlr_model.summary())"
   ]
  },
  {
   "cell_type": "code",
   "execution_count": null,
   "metadata": {},
   "outputs": [],
   "source": [
    "# Using the model, make predictions, and create the error vector and it's plot\n",
    "\n",
    "y_pred = mlr_model.predict(X)\n",
    "y_pred.head()\n",
    "\n",
    "e = y - y_pred\n",
    "plt.scatter(X['x1'],e)"
   ]
  },
  {
   "cell_type": "code",
   "execution_count": null,
   "metadata": {},
   "outputs": [],
   "source": [
    "# Create a scatter plot of y and y_pred\n",
    "plt.scatter(X['x1'],y_pred, color='red')\n",
    "plt.scatter(X['x1'],y, color='green')"
   ]
  },
  {
   "cell_type": "code",
   "execution_count": null,
   "metadata": {},
   "outputs": [],
   "source": []
  }
 ],
 "metadata": {
  "kernelspec": {
   "display_name": "py11",
   "language": "python",
   "name": "python3"
  },
  "language_info": {
   "codemirror_mode": {
    "name": "ipython",
    "version": 3
   },
   "file_extension": ".py",
   "mimetype": "text/x-python",
   "name": "python",
   "nbconvert_exporter": "python",
   "pygments_lexer": "ipython3",
   "version": "3.11.4"
  },
  "orig_nbformat": 4
 },
 "nbformat": 4,
 "nbformat_minor": 2
}
